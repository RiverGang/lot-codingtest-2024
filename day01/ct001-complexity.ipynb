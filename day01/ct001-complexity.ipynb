{
 "cells": [
  {
   "cell_type": "markdown",
   "metadata": {},
   "source": [
    "### 복잡도\n",
    "\n",
    "#### 유형\n",
    "- 어떤 알고리즘을 모두 처리하는데 사용되는 리소스의 크기\n",
    "    - 공간복잡도: 연산시 필요한 메모리의 양. 일반적인 복잡도에서 사용 x\n",
    "    - 시간복잡도: 연산시 필요한 연산의 수 (= 시간). 짧은 시간에 해결되는 것이 관건\n",
    "\n",
    "- 시간복잡도: 코딩테스트(알고리즘 문제풀이)에서 사용하는 복잡도\n"
   ]
  },
  {
   "cell_type": "markdown",
   "metadata": {},
   "source": [
    "|BigO|명칭|\n",
    "|---|---|\n",
    "|$O(1)$|상수시간|\n",
    "|$O(lonN)$|로그시간 - 1차 반복을 아주 짧은 시간에 끝낼 수 있다|\n",
    "|$O(N)$|선형시간|\n",
    "|$O(NlogN)$|로그 선형시간 - 2차 반복중 안쪽 반복문이 아주 짧은 시간 안에 끝남|\n",
    "|$O(N^2)$|2차시간|\n",
    "|$O(N^3)$|3차시간 - 3중 반복문|\n",
    "|$O(2^N)$|지수시간|"
   ]
  },
  {
   "cell_type": "markdown",
   "metadata": {},
   "source": [
    "- 통상적으로 코딩테스트에서 문제의 복잡도는 $N^2$ 을 넘기지 않도록 해야 함\n",
    "- 연산시간이 5초 이상 넘지 않도록 코드 구현하기"
   ]
  },
  {
   "cell_type": "markdown",
   "metadata": {},
   "source": [
    "#### O(1)\n",
    "- 처리되는데 아무런 복잡도가 없음"
   ]
  },
  {
   "cell_type": "code",
   "execution_count": 5,
   "metadata": {},
   "outputs": [
    {
     "name": "stdout",
     "output_type": "stream",
     "text": [
      "12\n"
     ]
    }
   ],
   "source": [
    "a,b = 5, 7\n",
    "print(a + b)"
   ]
  },
  {
   "cell_type": "markdown",
   "metadata": {},
   "source": [
    "#### O(n)\n",
    "\n",
    "- 배열의 크기가 늘어나는 만큼 처리시간 증가\n",
    "- n, 2n, 3n ... n+100 etc..\n",
    "- n 앞의 배수나 플러스되는 수의 비중은 크지 않음\n",
    "- n으로 귀결 -> n의 복잡도를 가진다\n",
    "- 1차 방정식으로 수가 증가되는 알고리즘 "
   ]
  },
  {
   "cell_type": "code",
   "execution_count": 4,
   "metadata": {},
   "outputs": [
    {
     "data": {
      "text/plain": [
       "5050"
      ]
     },
     "execution_count": 4,
     "metadata": {},
     "output_type": "execute_result"
    }
   ],
   "source": [
    "array= [i for i in range(1, 101)]\n",
    "\n",
    "sum = 0\n",
    "\n",
    "for x in array:\n",
    "        sum+= x\n",
    "\n",
    "sum"
   ]
  },
  {
   "cell_type": "markdown",
   "metadata": {},
   "source": [
    "#### $O(n^2)$\n",
    "- 2중 반복문에서 나오는 복잡도\n",
    "- $3n^2 + 3n + 3$ --> 뒤의 n은 수가 크지 않다고 판단, 삭제, 2차 방정식에서 2차원만 추출"
   ]
  },
  {
   "cell_type": "code",
   "execution_count": 7,
   "metadata": {},
   "outputs": [
    {
     "data": {
      "text/plain": [
       "25502500"
      ]
     },
     "execution_count": 7,
     "metadata": {},
     "output_type": "execute_result"
    }
   ],
   "source": [
    "array = [i for i in range(1, 101)]\n",
    "\n",
    "result = 0\n",
    "for i in array: # 반복문1 -> 100번 반복\n",
    "        for j in array: # 반복문2 -> 100번 반복을 100번 더 반복 -> 10000번 반복\n",
    "            result += i * j\n",
    "\n",
    "result"
   ]
  },
  {
   "cell_type": "markdown",
   "metadata": {},
   "source": []
  },
  {
   "cell_type": "code",
   "execution_count": null,
   "metadata": {},
   "outputs": [],
   "source": [
    "from random import randint\n",
    "import time\n",
    "\n",
    "# 배열에 10,000개의 정수를 삽입\n",
    "array = []\n",
    "for _ in range(10000):\n",
    "    array.append(randint(1, 100)) # 1부터 100 사이의 랜덤한 정수\n",
    "\n",
    "# 선택 정렬 프로그램 성능 측정\n",
    "start_time = time.time()\n",
    "\n",
    "# 선택 정렬 프로그램 소스코드\n",
    "for i in range(len(array)):\n",
    "    min_index = i # 가장 작은 원소의 인덱스\n",
    "    for j in range(i + 1, len(array)):\n",
    "        if array[min_index] > array[j]:\n",
    "            min_index = j\n",
    "    array[i], array[min_index] = array[min_index], array[i] # 스와프\n",
    "\n",
    "end_time = time.time() # 측정 종료\n",
    "print(\"선택 정렬 성능 측정:\", end_time - start_time) # 수행 시간 출력\n",
    "\n",
    "# 배열을 다시 무작위 데이터로 초기화\n",
    "array = []\n",
    "for _ in range(10000):\n",
    "    array.append(randint(1, 100)) # 1부터 100 사이의 랜덤한 정수\n",
    "\n",
    "# 기본 정렬 라이브러리 성능 측정\n",
    "start_time = time.time()\n",
    "\n",
    "# 기본 정렬 라이브러리 사용\n",
    "array.sort()\n",
    "\n",
    "end_time = time.time() # 측정 종료\n",
    "print(\"기본 정렬 라이브러리 성능 측정:\", end_time - start_time) # 수행 시간 출력"
   ]
  },
  {
   "cell_type": "markdown",
   "metadata": {},
   "source": [
    "- 파이썬의 정렬알고리즘이 우리가 만든 것과는 비교도 안되게 빠르다\n",
    "- 파이썬 코테에서는 정렬에 대한 문제가 잘 안나옴\n",
    "- '내장된 정렬함수를 사용하지 않고 구현하시오' 식의 문제는 나올 수 있음\n",
    "- 시간복잡도가 복잡한 코드는 무용지물일 수 있음"
   ]
  },
  {
   "cell_type": "markdown",
   "metadata": {},
   "source": [
    "### 그리디 알고리즘(탐욕법)\n",
    "- 현재 상황에서 당장 좋은 것만 선택하는 방법\n",
    "- 사전에 외우고 있지 않아도 풀 수 있는 유형의 알고리즘"
   ]
  },
  {
   "cell_type": "markdown",
   "metadata": {},
   "source": [
    "예제 3-1 거스름돈\n",
    "\n",
    "- 카운터에 500원, 100원, 50원, 10원이 무한대로 존재\n",
    "- 손님에게 N원의 돈을 거슬러 줄 때 동전의 최소갯수(단, N은 10의 배수)"
   ]
  },
  {
   "cell_type": "code",
   "execution_count": 17,
   "metadata": {},
   "outputs": [
    {
     "data": {
      "text/plain": [
       "7"
      ]
     },
     "execution_count": 17,
     "metadata": {},
     "output_type": "execute_result"
    }
   ],
   "source": [
    "n = 380\n",
    "count = 0\n",
    "\n",
    "# 동전을 전부 나열\n",
    "coins = [500, 100, 50, 10]\n",
    "\n",
    "for coin in coins:\n",
    "    count += n // coin\n",
    "    n = n % coin\n",
    "\n",
    "count\n",
    "    "
   ]
  },
  {
   "cell_type": "markdown",
   "metadata": {},
   "source": [
    "#### 92p 예제: 큰 수의 법칙\n",
    "- 배열에 들어있는 수를 M번 더하여 가장 큰 수를 만든다. 단, 같은 수가 K번 이상 반복될 수 없음\n",
    "- 배열 N(2 <= M <= 1000), 더하기 횟수 M(1 <= M <= 10000), 반복 가능수 K(1 <= K <= 10000)\n",
    "- 둘째 줄에 N의 자연수 배열 입력, 구분 공백으로\n",
    "- 입력으로 주어진 K는 항상 M보다 작음"
   ]
  },
  {
   "cell_type": "code",
   "execution_count": 19,
   "metadata": {},
   "outputs": [
    {
     "data": {
      "text/plain": [
       "[1, 1, 2, 2, 3, 5]"
      ]
     },
     "execution_count": 19,
     "metadata": {},
     "output_type": "execute_result"
    }
   ],
   "source": [
    "## n, m, k를 공백으로 구분하여 입력받는다\n",
    "n, m, k  = map(int, input().split())\n",
    "\n",
    "# n개의 배열 값을 입력\n",
    "data = list(map(int, input().split()))\n",
    "\n",
    "\n",
    "## 5 8 3\n",
    "## [2, 4, 5, 4, 6]\n",
    "\n",
    "# 정렬먼저\n",
    "data.sort()\n",
    "data"
   ]
  },
  {
   "cell_type": "markdown",
   "metadata": {},
   "source": [
    "백준 1436번 - 1로 만들기\n",
    "- X를 3으로 나눠지면 나누기\n",
    "- X가 2로 나눠지면 나누기\n",
    "- 아니면 1빼기\n",
    "\n",
    "- 그리디문제 아니었음 -> 동적프로그래밍(DP) 문제\n",
    "- 문제를 풀다가 답이 똑같이 안나오면 알고리즘을 변경해야함"
   ]
  },
  {
   "cell_type": "code",
   "execution_count": null,
   "metadata": {},
   "outputs": [],
   "source": [
    "## x 입력\n",
    "x = int(input())\n",
    "count = 0\n",
    "\n",
    "while True:\n",
    "    if x == 1: break\n",
    "\n",
    "    if x % 3 == 0:\n",
    "        x = int(x/3)\n",
    "        count += 1\n",
    "    elif x % 2 == 0:\n",
    "        x = int(x/2)\n",
    "        count += 1\n",
    "    else:\n",
    "        x -= 1\n"
   ]
  }
 ],
 "metadata": {
  "kernelspec": {
   "display_name": "Python 3",
   "language": "python",
   "name": "python3"
  },
  "language_info": {
   "codemirror_mode": {
    "name": "ipython",
    "version": 3
   },
   "file_extension": ".py",
   "mimetype": "text/x-python",
   "name": "python",
   "nbconvert_exporter": "python",
   "pygments_lexer": "ipython3",
   "version": "3.11.5"
  }
 },
 "nbformat": 4,
 "nbformat_minor": 2
}
